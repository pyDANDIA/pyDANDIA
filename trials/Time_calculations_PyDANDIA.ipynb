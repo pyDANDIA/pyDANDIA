{
 "cells": [
  {
   "cell_type": "markdown",
   "id": "62269426-95a3-4137-a856-20e575a34b48",
   "metadata": {},
   "source": [
    "# Time calculations in PyDANDIA\n",
    "\n",
    "Originally, pyDANDIA made use of the SLAlib library to calculate Heliocentric Julian Date as it was available as a Python-wrapped C-library and was a well-tested standard.  However, it is a difficult package to reliably install and build, and there are Astropy functions available which should be easier to use.  The purpose of this notebook is to trial an Astropy-based replacement for the SLAlib routines in PyDANDIA's time_utils.py"
   ]
  },
  {
   "cell_type": "markdown",
   "id": "fc914a8e-d06b-4443-b26a-1538985a5f82",
   "metadata": {},
   "source": [
    "Support for HJD was added in Astropy as discussed in this thread:\n",
    "https://github.com/astropy/astropy/pull/4314"
   ]
  },
  {
   "cell_type": "code",
   "execution_count": 96,
   "id": "2a4d26c0-d4af-41ca-a307-c4c95a64b3c3",
   "metadata": {},
   "outputs": [],
   "source": [
    "from astropy.coordinates import EarthLocation, SkyCoord\n",
    "from astropy.time import Time, TimeDelta\n",
    "from astropy import units as u\n",
    "import math\n",
    "from datetime import datetime, timedelta\n",
    "import pyslalib.slalib as S"
   ]
  },
  {
   "cell_type": "markdown",
   "id": "f6857508-95a2-4c8c-8119-9f2311d62baf",
   "metadata": {},
   "source": [
    "# Astropy implementation of HJD calculation\n",
    "\n",
    "Based on the [Astropy documentation](https://docs.astropy.org/en/stable/time/), the following function calculates HJD:"
   ]
  },
  {
   "cell_type": "code",
   "execution_count": 97,
   "id": "b00c5ec9-af04-40f3-b2e2-1877dcab61a1",
   "metadata": {},
   "outputs": [
    {
     "name": "stdout",
     "output_type": "stream",
     "text": [
      "Measured timestamp: 2024-03-05T14:00:00.000\n",
      "Star coordinates in degrees:  262.49999999999994 -27.0\n",
      "Star coordinates in rads:  4.581489286485114 -0.47123889803846897\n",
      "Light travel time (Earth-Sun) at this timestamp: -70.05597380191763sec\n",
      "Heliocentric-corrected timestamp: 2024-03-05T13:58:49.944, 2460375.0825225003\n"
     ]
    },
    {
     "data": {
      "text/plain": [
       "<Time object: scale='utc' format='isot' value=2024-03-05T13:58:49.944>"
      ]
     },
     "execution_count": 97,
     "metadata": {},
     "output_type": "execute_result"
    }
   ],
   "source": [
    "# Astropy requires that an observatory site is specified\n",
    "observatory_site = EarthLocation.of_site('lapalma')\n",
    "#observatory_site = EarthLocation.from_geocentric(0,0,0, unit=u.m)\n",
    "\n",
    "t = Time(\"2024-03-05T14:00\", format='isot', scale='utc', location=observatory_site)\n",
    "print('Measured timestamp: ' + str(t))\n",
    "\n",
    "star = SkyCoord('17:30:00', '-27:00:00', unit=(u.hourangle,u.degree), frame='icrs')\n",
    "print('Star coordinates in degrees: ',star.ra.deg, star.dec.deg)\n",
    "print('Star coordinates in rads: ', star.ra.rad, star.dec.rad)\n",
    "\n",
    "# This uses EPV rather than ECOR by default, meaning it is more precise than the low-precision SLAlib\n",
    "# Applying the JPL ephemeris makes it more precise still\n",
    "ltt_helio = t.light_travel_time(star, 'heliocentric', ephemeris=None) \n",
    "print('Light travel time (Earth-Sun) at this timestamp: ' + str(ltt_helio*24.0*60*60) + 'sec')\n",
    "\n",
    "hjd1 = t.utc + ltt_helio\n",
    "print('Heliocentric-corrected timestamp: ' + str(hjd1) + ', ' + str(hjd1.jd))\n",
    "hjd1"
   ]
  },
  {
   "cell_type": "markdown",
   "id": "7b94527f-b987-4da7-94d7-67559874bf05",
   "metadata": {},
   "source": [
    "## SLAlib comparison\n",
    "\n",
    "Now calculate the HJD using the [SLAlib-based routine from pyDANDIA](https://github.com/pyDANDIA/pyDANDIA/blob/feature/quick_phot/pyDANDIA/time_utils.py)."
   ]
  },
  {
   "cell_type": "code",
   "execution_count": 98,
   "id": "54d3c708-6a1d-404f-ba7c-374b5c9f260f",
   "metadata": {},
   "outputs": [],
   "source": [
    "def sexig2dec(coord):\n",
    "    \"\"\"Function to convert a sexigesimal coordinate string into a decimal float,\n",
    "    returning a value in the same units as the string passed to it.\"\"\"\n",
    "\n",
    "    # Ensure that the string is separated by ':':\n",
    "    coord = coord.lstrip().rstrip().replace(' ',':')\n",
    "\n",
    "    # Strip the sign, if any, from the first character, making a note if its negative:\n",
    "    if coord[0:1] == '-':\n",
    "      \tsign = -1.0\n",
    "      \tcoord = coord[1:]\n",
    "    else:\n",
    "      \tsign = 1.0\n",
    "\n",
    "    # Split the CoordStr on the ':':\n",
    "    coord_list = coord.split(':')\n",
    "\n",
    "    # Assuming this presents us with a 3-item list, the last two items of which will\n",
    "    # be handled as minutes and seconds:\n",
    "    try:\n",
    "        decimal = float(coord_list[0]) + (float(coord_list[1])/60.0) + \\\n",
    "                            (float(coord_list[2])/3600.0)\n",
    "        decimal = sign*decimal\n",
    "\n",
    "    except:\n",
    "        decimal = 0\n",
    "\n",
    "    # Return with the decimal float:\n",
    "    return decimal\n"
   ]
  },
  {
   "cell_type": "code",
   "execution_count": 99,
   "id": "3348b51a-d742-4a9c-9698-32b06930e056",
   "metadata": {},
   "outputs": [],
   "source": [
    "def datetime2mjd_utc(d):\n",
    "\n",
    "# Compute MJD for UTC\n",
    "    (mjd, status) = S.sla_cldj(d.year, d.month, d.day)\n",
    "    if status != 0:\n",
    "        return None\n",
    "    (fday, status ) = S.sla_dtf2d(d.hour, d.minute, d.second+(d.microsecond/1e6))\n",
    "    if status != 0:\n",
    "        return None\n",
    "    mjd_utc = mjd + fday\n",
    "\n",
    "    return mjd_utc"
   ]
  },
  {
   "cell_type": "code",
   "execution_count": 100,
   "id": "06451f77-c832-4255-8d8c-b138af6ab0f3",
   "metadata": {},
   "outputs": [],
   "source": [
    "def mjd_utc2mjd_tt(mjd_utc, dbg=False):\n",
    "    '''Converts a MJD in UTC (MJD_UTC) to a MJD in TT (Terrestial Time) which is\n",
    "    needed for any position/ephemeris-based calculations.\n",
    "    UTC->TT consists of: UTC->TAI = 10s offset + 24 leapseconds (last one 2009 Jan 1.)\n",
    "    \t    \t    \t TAI->TT  = 32.184s fixed offset'''\n",
    "# UTC->TT offset\n",
    "    tt_utc = S.sla_dtt(mjd_utc)\n",
    "    if dbg:\n",
    "        print('TT-UTC(s)='+str(tt_utc))\n",
    "\n",
    "# Correct MJD to MJD(TT)\n",
    "    mjd_tt = mjd_utc + (tt_utc/86400.0)\n",
    "    if dbg:\n",
    "        print('MJD(TT)  =  '+str(mjd_tt))\n",
    "\n",
    "    return mjd_tt\n"
   ]
  },
  {
   "cell_type": "code",
   "execution_count": 101,
   "id": "f848579c-861c-4f6a-998e-bcce24b994d6",
   "metadata": {},
   "outputs": [],
   "source": [
    "def calc_hjd(dateobs,RA,Dec,exptime,debug=False):\n",
    "    \"\"\"Function to calculate the Heliocentric Julian Date from the parameters\n",
    "    in a typical image header:\n",
    "\n",
    "    :params string dateobs: DATE-OBS, Exposure start time in UTC,\n",
    "                            %Y-%m-%dT%H:%M:%S format\n",
    "    :params float exptime:  Exposure time in seconds\n",
    "    :params string RA:      RA in sexigesimal hours format\n",
    "    :params string Dec:     Dec in sexigesimal degrees format\n",
    "\n",
    "    Returns:\n",
    "\n",
    "    :params float HJD:      HJD\n",
    "    \"\"\"\n",
    "\n",
    "    # Convert RA, Dec to radians: then convert from J2000 to mean position, epoch of date -> FK5, J2000.0\n",
    "    dRA = sexig2dec(RA)\n",
    "    dRA = dRA * 15.0 * math.pi / 180.0\n",
    "    dDec = sexig2dec(Dec)\n",
    "    dDec = dDec * math.pi / 180.0\n",
    "    #dRA = 4.588083085411322  # Radians, in mean position at dateobs\n",
    "    #dDec = -0.47153769281650487\n",
    "    if debug:\n",
    "        print('RA '+RA+' -> decimal radians '+str(dRA))\n",
    "        print('Dec '+Dec+' -> decimal radians '+str(dDec))\n",
    "\n",
    "    # Convert the timestamp into a DateTime object:\n",
    "    if 'T' in dateobs:\n",
    "        try:\n",
    "            dt = datetime.strptime(dateobs,\"%Y-%m-%dT%H:%M:%S.%f\")\n",
    "        except ValueError:\n",
    "            dt = datetime.strptime(dateobs,\"%Y-%m-%dT%H:%M:%S\")\n",
    "    else:\n",
    "        try:\n",
    "            dt = datetime.strptime(dateobs,\"%Y-%m-%d %H:%M:%S.%f\")\n",
    "        except ValueError:\n",
    "            dt = datetime.strptime(dateobs,\"%Y-%m-%d %H:%M:%S\")\n",
    "\n",
    "    # Convert the exposure time into a TimeDelta object and add half of it\n",
    "    # to the time to get the exposure mid-point:\n",
    "    expt = timedelta(seconds=exptime)\n",
    "\n",
    "    dt = dt + expt/2.0\n",
    "\n",
    "    if debug:\n",
    "        print('DATE-OBS = '+str(dateobs))\n",
    "        print('Exposure time = '+str(expt))\n",
    "        print('Mid-point of exposure = '+dt.strftime(\"%Y-%m-%dT%H:%M:%S.%f\"))\n",
    "\n",
    "        at = Time(dateobs,format='isot', scale='utc')\n",
    "        aexpt = TimeDelta(exptime,format='sec')\n",
    "\n",
    "        adt = at + aexpt/2.0\n",
    "        print('Astropy: mid-point of exposure = '+adt.value)\n",
    "\n",
    "    # Calculate the MJD (UTC) timestamp:\n",
    "    mjd_utc = datetime2mjd_utc(dt)\n",
    "    if debug:\n",
    "        print('MJD_UTC = '+str(mjd_utc))\n",
    "        print('Astropy MJD_UTC = '+str(adt.mjd))\n",
    "\n",
    "    # Correct the MJD to TT:\n",
    "    mjd_tt = mjd_utc2mjd_tt(mjd_utc)\n",
    "    if debug:\n",
    "        print('MJD_TT = '+str(mjd_tt))\n",
    "\n",
    "        att = adt.tt\n",
    "        print('Astropy MJD_TT = '+str(att.mjd))\n",
    "\n",
    "    # Correct coordinates to the mean position at a set date\n",
    "    obs_epoch = S.sla_epj(mjd_tt)\n",
    "    dRA_fk5, dDec_fk5 = S.sla_preces('FK5', 2000.0, obs_epoch, dRA, dDec)\n",
    "    print('Corrected mean position: ', dRA_fk5, dDec_fk5)\n",
    "    \n",
    "    # Calculating MJD of 1st January that year: sla_clyd XXXX convert to TT?\n",
    "    (mjd_jan1,iexec) = S.sla_cldj(dt.year,1,1)\n",
    "    if debug:\n",
    "        print('MJD of Jan 1, '+str(dt.year)+' = '+str(mjd_jan1))\n",
    "\n",
    "        at_jan1 = Time(str(dt.year)+'-01-01T00:00:00.0',format='isot', scale='utc')\n",
    "        print('Astropy MJD of Jan 1, '+str(dt.year)+' = '+str(at_jan1.mjd))\n",
    "\n",
    "    # Calculating the MJD difference between the DateObs and Jan 1 of the same year:\n",
    "    tdiff = mjd_tt - mjd_jan1\n",
    "    if debug:\n",
    "        print('Time difference from Jan 1 - dateobs, '+\\\n",
    "                str(dt.year)+' = '+str(tdiff))\n",
    "\n",
    "        atdiff = att.mjd - at_jan1.mjd\n",
    "        print('Astropy time difference = '+str(atdiff))\n",
    "\n",
    "    # Calculating the RV and time corrections to the Sun: XX Year could change, should use TDB\n",
    "    print(dRA,dDec,dt.year,int(tdiff),(tdiff-int(tdiff)))\n",
    "    (rv,tcorr) = S.sla_ecor(dRA_fk5,dDec_fk5,dt.year,int(tdiff),(tdiff-int(tdiff)))\n",
    "    if debug:\n",
    "        print('Time correction to the Sun = '+str(tcorr))\n",
    "\n",
    "    # Calculating the HJD:\n",
    "    hjd = mjd_tt + tcorr/86400.0 + 2400000.5\n",
    "    if debug:\n",
    "        print('HJD = '+str(hjd))\n",
    "\n",
    "    iy, im, id, fd, stat = S.sla_djcl(mjd_tt)\n",
    "    print(iy, im, id, fd, stat)\n",
    "    ny, nd, stat = S.sla_clyd(iy, im, id)\n",
    "    print(ny, nd)\n",
    "    (rv2,tcorr2) = S.sla_ecor(dRA_fk5,dDec_fk5,ny,nd,fd)\n",
    "    print('New time correction: ' , tcorr2)\n",
    "    \n",
    "    return hjd, tcorr2"
   ]
  },
  {
   "cell_type": "code",
   "execution_count": null,
   "id": "b7e2c8c3-0d78-450d-96a2-263f8a728e2a",
   "metadata": {},
   "outputs": [],
   "source": []
  },
  {
   "cell_type": "code",
   "execution_count": 102,
   "id": "0742c097-846c-4064-9a82-0510d942fa89",
   "metadata": {},
   "outputs": [
    {
     "name": "stdout",
     "output_type": "stream",
     "text": [
      "RA 17:30:00 -> decimal radians 4.581489286485115\n",
      "Dec -27:00:00 -> decimal radians -0.47123889803846897\n",
      "DATE-OBS = 2024-03-05T14:00:00\n",
      "Exposure time = 0:00:00\n",
      "Mid-point of exposure = 2024-03-05T14:00:00.000000\n",
      "Astropy: mid-point of exposure = 2024-03-05T14:00:00.000\n",
      "MJD_UTC = 60374.583333333336\n",
      "Astropy MJD_UTC = 60374.583333333336\n",
      "MJD_TT = 60374.58413407407\n",
      "Astropy MJD_TT = 60374.58413407407\n",
      "Corrected mean position:  4.588083339638706 -0.471537830374264\n",
      "MJD of Jan 1, 2024 = 60310.0\n",
      "Astropy MJD of Jan 1, 2024 = 60310.0\n",
      "Time difference from Jan 1 - dateobs, 2024 = 64.58413407407352\n",
      "Astropy time difference = 64.58413407407352\n",
      "4.581489286485115 -0.47123889803846897 2024 64 0.5841340740735177\n",
      "Time correction to the Sun = -78.54212951660156\n",
      "HJD = 2460375.0832250216\n",
      "2024 3 5 0.5841340740735177 0\n",
      "2024 65\n",
      "New time correction:  -70.02302551269531\n"
     ]
    }
   ],
   "source": [
    "dateobs = '2024-03-05T14:00:00'\n",
    "ra = '17:30:00'\n",
    "dec = '-27:00:00'\n",
    "exptime = 0.0\n",
    "hjd2, tcorr2 = calc_hjd(dateobs,ra,dec,exptime,debug=True)"
   ]
  },
  {
   "cell_type": "code",
   "execution_count": 103,
   "id": "0628c74a-2bac-4d3f-b0ee-527433e0954f",
   "metadata": {},
   "outputs": [
    {
     "name": "stdout",
     "output_type": "stream",
     "text": [
      "Difference HJD1 - HJD2 = 1.0116306692361832m\n"
     ]
    }
   ],
   "source": [
    "print('Difference HJD1 - HJD2 = ' + str((hjd2 - hjd1.jd)*24.0*60.0) + 'm')"
   ]
  },
  {
   "cell_type": "code",
   "execution_count": 104,
   "id": "620ee527-60f1-4c71-a1ff-96f3c8d06f9f",
   "metadata": {},
   "outputs": [
    {
     "name": "stdout",
     "output_type": "stream",
     "text": [
      "69.18399941759468\n"
     ]
    }
   ],
   "source": [
    "t1 = .583333333336\n",
    "t2 = .58413407407\n",
    "print((t2 - t1)*86400)"
   ]
  },
  {
   "cell_type": "code",
   "execution_count": 105,
   "id": "be32a717-e875-40c5-a2d2-e259e9e67aeb",
   "metadata": {},
   "outputs": [
    {
     "data": {
      "text/plain": [
       "-0.032948289222318294"
      ]
     },
     "execution_count": 105,
     "metadata": {},
     "output_type": "execute_result"
    }
   ],
   "source": [
    "ltt_helio.to(u.s).value - tcorr2"
   ]
  },
  {
   "cell_type": "code",
   "execution_count": 106,
   "id": "efe6aa40-49da-4296-944d-a2298c392c73",
   "metadata": {},
   "outputs": [
    {
     "data": {
      "text/latex": [
       "$(-5466072.1, -2404262.6, 2242169.4) \\; \\mathrm{m}$"
      ],
      "text/plain": [
       "<EarthLocation (-5466072.06175456, -2404262.63207449, 2242169.36230874) m>"
      ]
     },
     "execution_count": 106,
     "metadata": {},
     "output_type": "execute_result"
    }
   ],
   "source": [
    "ogg = EarthLocation(lat='20d42m25.5sN', lon='156d15m27.4sW', height=3055.0 * u.m)\n",
    "ogg"
   ]
  },
  {
   "cell_type": "code",
   "execution_count": 112,
   "id": "52fd6150-6399-4962-b748-8483d8424f0c",
   "metadata": {},
   "outputs": [],
   "source": [
    "def fetch_observatory_location(tel_code):\n",
    "    lco_facilities = {\n",
    "        'ogg-clma-2m0a': EarthLocation(lat='20d42m25.5sN', lon='156d15m27.4sW', height=3055.0 * u.m),\n",
    "        'ogg-clma-0m4b': EarthLocation(lat='20d42m25.1sN', lon='156d15m27.11sW', height=3037.0 * u.m),\n",
    "        'ogg-clma-0m4c': EarthLocation(lat='20d42m25.1sN', lon='156d15m27.12sW', height=3037.0 * u.m),\n",
    "        'coj-clma-2m0a': EarthLocation(lat='31d16m23.4sS', lon='149d4m13.0sE', height=1111.8 * u.m),\n",
    "        'coj-doma-1m0a': EarthLocation(lat='31d16m22.56sS', lon='149d4m14.33sE', height=1168.0 * u.m),\n",
    "        'coj-domb-1m0a': EarthLocation(lat='31d16m22.89sS', lon='149d4m14.75sE', height=1168.0 * u.m),\n",
    "        'coj-clma-0m4a': EarthLocation(lat='31d16m22.38sS', lon='149d4m15.05sE', height=1191.0 * u.m),\n",
    "        'coj-clma-0m4b': EarthLocation(lat='31d16m22.48sS', lon='149d4m14.91sE', height=1191.0 * u.m),\n",
    "        'elp-doma-1m0a': EarthLocation(lat='30d40m47.53sN', lon='104d0m54.63sW', height=2010.0 * u.m),\n",
    "        'elp-domb-1m0a': EarthLocation(lat='30d40m48.00sN', lon='104d0m55.74sW', height=2029.4 * u.m),\n",
    "        'elp-aqwa-0m4a': EarthLocation(lat='30d40m48.15sN', lon='104d0m54.24sW', height=2027.0 * u.m),\n",
    "        'lsc-doma-1m0a': EarthLocation(lat='30d10m2.58sS', lon='70d48m17.24sW', height=2201.0 * u.m),\n",
    "        'lsc-domb-1m0a': EarthLocation(lat='30d10m2.39sS', lon='70d48m16.78sW', height=2201.0 * u.m),\n",
    "        'lsc-domc-1m0a': EarthLocation(lat='30d10m2.81sS', lon='70d48m16.85sW', height=2201.0 * u.m),\n",
    "        'lsc-aqwa-0m4a': EarthLocation(lat='30d10m3.79sS', lon='70d48m16.88sW', height=2202.5 * u.m),\n",
    "        'lsc-aqwb-0m4a': EarthLocation(lat='30d10m3.56sS', lon='70d48m16.74sW', height=2202.5 * u.m),\n",
    "        'cpt-doma-1m0a': EarthLocation(lat='32d22m50.0sS', lon='20d48m36.65sE', height=1807.0 * u.m),\n",
    "        'cpt-domb-1m0a': EarthLocation(lat='32d22m50.0sS', lon='20d48m36.13sE', height=1807.0 * u.m),\n",
    "        'cpt-domc-1m0a': EarthLocation(lat='32d22m50.38sS', lon='20d48m36.39sE', height=1807.0 * u.m),\n",
    "        'cpt-aqwa-0m4a': EarthLocation(lat='32d22m50.25sS', lon='20d48m35.54sE', height=1804.0 *u.m),\n",
    "        'tfn-doma-1m0a': EarthLocation(lat='28d18m1.56sN', lon='16d30m41.82sE', height=2406.0 * u.m),\n",
    "        'tfn-domb-1m0a': EarthLocation(lat='28d18m1.8720sN', lon='16d30m41.4360sE', height=2406.0 * u.m),\n",
    "        'tfn-aqwa-0m4a': EarthLocation(lat='28d18m1.11sN', lon='16d30m42.13sE', height=2390.0 * u.m),\n",
    "        'tfn-aqwa-0m4a': EarthLocation(lat='28d18m1.11sN', lon='16d30m42.21sE', height=2390.0 * u.m),\n",
    "    }\n",
    "    \n",
    "    # Check to see if it is an LCO facility code first, because we have more precise \n",
    "    # coordinates for each telescope than a generic site location\n",
    "    if tel_code in lco_facilities.keys():\n",
    "        return lco_facilities[tel_code]\n",
    "\n",
    "    # If not found, use Astropy's built-in look-up table.  If this is fed an invalid \n",
    "    # site ID code, it will automatically raise an UnknownSiteException, which is\n",
    "    # the desired behaviour\n",
    "    else:\n",
    "        return EarthLocation.of_site(tel_code)\n",
    "        "
   ]
  },
  {
   "cell_type": "code",
   "execution_count": 113,
   "id": "dd7450cd-ed68-492e-9277-81b7a8f2fb6d",
   "metadata": {},
   "outputs": [
    {
     "name": "stdout",
     "output_type": "stream",
     "text": [
      "{'ogg-clma-2m0a': <EarthLocation (-5466072.06175456, -2404262.63207449, 2242169.36230874) m>, 'ogg-clma-0m4b': <EarthLocation (-5466057.25271517, -2404265.29017691, 2242151.48536641) m>, 'ogg-clma-0m4c': <EarthLocation (-5466057.36927723, -2404265.02517498, 2242151.48536641) m>, 'coj-clma-2m0a': <EarthLocation (-4681246.77022575, 2804967.64212724, -3292393.97389006) m>, 'coj-doma-1m0a': <EarthLocation (-4681317.58278984, 2804969.04994609, -3292401.03259024) m>, 'coj-domb-1m0a': <EarthLocation (-4681318.76769187, 2804956.80549828, -3292409.72093929) m>, 'coj-clma-0m4a': <EarthLocation (-4681346.70588824, 2804964.29233773, -3292408.23312442) m>, 'coj-clma-0m4b': <EarthLocation (-4681343.43034414, 2804966.64785303, -3292410.86596925) m>, 'elp-doma-1m0a': <EarthLocation (-1330025.63799311, -5328428.97615206, 3236445.76104197) m>, 'elp-domb-1m0a': <EarthLocation (-1330056.56415159, -5328430.83892287, 3236468.11170033) m>, 'elp-aqwa-0m4a': <EarthLocation (-1330016.74381361, -5328436.22104676, 3236470.86115122) m>, 'lsc-doma-1m0a': <EarthLocation (1815190.45069048, -5213920.07929362, -3187535.40194687) m>, 'lsc-domb-1m0a': <EarthLocation (1815203.04549435, -5213918.80878114, -3187530.34191012) m>, 'lsc-domc-1m0a': <EarthLocation (1815199.13842268, -5213913.28476441, -3187541.52725093) m>, 'lsc-aqwa-0m4a': <EarthLocation (1815193.81865443, -5213900.44666418, -3187568.38012817) m>, 'lsc-aqwb-0m4a': <EarthLocation (1815198.5281498, -5213902.5770538, -3187562.25483932) m>, 'cpt-doma-1m0a': <EarthLocation (5041270.83274237, 1916024.22418277, -3397112.13840749) m>, 'cpt-domb-1m0a': <EarthLocation (5041275.66308308, 1916011.51497592, -3397112.13840749) m>, 'cpt-domc-1m0a': <EarthLocation (5041267.38646899, 1916015.64184235, -3397122.02655756) m>, 'cpt-aqwa-0m4a': <EarthLocation (5041274.9191522, 1915994.72921751, -3397117.03714691) m>, 'tfn-doma-1m0a': <EarthLocation (5390285.77863265, 1597864.2277941, 3007002.20900191) m>, 'tfn-domb-1m0a': <EarthLocation (5390284.38588535, 1597852.89812552, 3007010.66895421) m>, 'tfn-aqwa-0m4a': <EarthLocation (5390275.54996534, 1597872.28304904, 3006982.42164852) m>}\n",
      "{'ogg-clma-2m0a': <EarthLocation (-5466072.06175456, -2404262.63207449, 2242169.36230874) m>, 'ogg-clma-0m4b': <EarthLocation (-5466057.25271517, -2404265.29017691, 2242151.48536641) m>, 'ogg-clma-0m4c': <EarthLocation (-5466057.36927723, -2404265.02517498, 2242151.48536641) m>, 'coj-clma-2m0a': <EarthLocation (-4681246.77022575, 2804967.64212724, -3292393.97389006) m>, 'coj-doma-1m0a': <EarthLocation (-4681317.58278984, 2804969.04994609, -3292401.03259024) m>, 'coj-domb-1m0a': <EarthLocation (-4681318.76769187, 2804956.80549828, -3292409.72093929) m>, 'coj-clma-0m4a': <EarthLocation (-4681346.70588824, 2804964.29233773, -3292408.23312442) m>, 'coj-clma-0m4b': <EarthLocation (-4681343.43034414, 2804966.64785303, -3292410.86596925) m>, 'elp-doma-1m0a': <EarthLocation (-1330025.63799311, -5328428.97615206, 3236445.76104197) m>, 'elp-domb-1m0a': <EarthLocation (-1330056.56415159, -5328430.83892287, 3236468.11170033) m>, 'elp-aqwa-0m4a': <EarthLocation (-1330016.74381361, -5328436.22104676, 3236470.86115122) m>, 'lsc-doma-1m0a': <EarthLocation (1815190.45069048, -5213920.07929362, -3187535.40194687) m>, 'lsc-domb-1m0a': <EarthLocation (1815203.04549435, -5213918.80878114, -3187530.34191012) m>, 'lsc-domc-1m0a': <EarthLocation (1815199.13842268, -5213913.28476441, -3187541.52725093) m>, 'lsc-aqwa-0m4a': <EarthLocation (1815193.81865443, -5213900.44666418, -3187568.38012817) m>, 'lsc-aqwb-0m4a': <EarthLocation (1815198.5281498, -5213902.5770538, -3187562.25483932) m>, 'cpt-doma-1m0a': <EarthLocation (5041270.83274237, 1916024.22418277, -3397112.13840749) m>, 'cpt-domb-1m0a': <EarthLocation (5041275.66308308, 1916011.51497592, -3397112.13840749) m>, 'cpt-domc-1m0a': <EarthLocation (5041267.38646899, 1916015.64184235, -3397122.02655756) m>, 'cpt-aqwa-0m4a': <EarthLocation (5041274.9191522, 1915994.72921751, -3397117.03714691) m>, 'tfn-doma-1m0a': <EarthLocation (5390285.77863265, 1597864.2277941, 3007002.20900191) m>, 'tfn-domb-1m0a': <EarthLocation (5390284.38588535, 1597852.89812552, 3007010.66895421) m>, 'tfn-aqwa-0m4a': <EarthLocation (5390275.54996534, 1597872.28304904, 3006982.42164852) m>}\n"
     ]
    },
    {
     "ename": "UnknownSiteException",
     "evalue": "\"Site 'foo' not in database. Use EarthLocation.get_site_names to see available sites. If 'foo' exists in the online astropy-data repository, use the 'refresh_cache=True' option to download the latest version. Did you mean one of: 'oao'?'\"",
     "output_type": "error",
     "traceback": [
      "\u001b[0;31m---------------------------------------------------------------------------\u001b[0m",
      "\u001b[0;31mUnknownSiteException\u001b[0m                      Traceback (most recent call last)",
      "File \u001b[0;32m~/software/pyDANDIA/venv/lib/python3.10/site-packages/astropy/coordinates/earth.py:392\u001b[0m, in \u001b[0;36mEarthLocation.of_site\u001b[0;34m(cls, site_name, refresh_cache)\u001b[0m\n\u001b[1;32m    391\u001b[0m \u001b[38;5;28;01mtry\u001b[39;00m:\n\u001b[0;32m--> 392\u001b[0m     el \u001b[38;5;241m=\u001b[39m \u001b[43mregistry\u001b[49m\u001b[43m[\u001b[49m\u001b[43msite_name\u001b[49m\u001b[43m]\u001b[49m\n\u001b[1;32m    393\u001b[0m \u001b[38;5;28;01mexcept\u001b[39;00m UnknownSiteException \u001b[38;5;28;01mas\u001b[39;00m e:\n",
      "File \u001b[0;32m~/software/pyDANDIA/venv/lib/python3.10/site-packages/astropy/coordinates/sites.py:62\u001b[0m, in \u001b[0;36mSiteRegistry.__getitem__\u001b[0;34m(self, site_name)\u001b[0m\n\u001b[1;32m     60\u001b[0m     close_names \u001b[38;5;241m=\u001b[39m \u001b[38;5;28msorted\u001b[39m(close_names, key\u001b[38;5;241m=\u001b[39m\u001b[38;5;28mlen\u001b[39m)\n\u001b[0;32m---> 62\u001b[0m     \u001b[38;5;28;01mraise\u001b[39;00m UnknownSiteException(\n\u001b[1;32m     63\u001b[0m         site_name, \u001b[38;5;124m\"\u001b[39m\u001b[38;5;124mthe \u001b[39m\u001b[38;5;124m'\u001b[39m\u001b[38;5;124mnames\u001b[39m\u001b[38;5;124m'\u001b[39m\u001b[38;5;124m attribute\u001b[39m\u001b[38;5;124m\"\u001b[39m, close_names\u001b[38;5;241m=\u001b[39mclose_names\n\u001b[1;32m     64\u001b[0m     )\n\u001b[1;32m     66\u001b[0m \u001b[38;5;28;01mreturn\u001b[39;00m \u001b[38;5;28mself\u001b[39m\u001b[38;5;241m.\u001b[39m_lowercase_names_to_locations[site_name\u001b[38;5;241m.\u001b[39mlower()]\n",
      "\u001b[0;31mUnknownSiteException\u001b[0m: \"Site 'foo' not in database. Use the 'names' attribute to see available sites. If 'foo' exists in the online astropy-data repository, use the 'refresh_cache=True' option to download the latest version. Did you mean one of: 'oao'?'\"",
      "\nThe above exception was the direct cause of the following exception:\n",
      "\u001b[0;31mUnknownSiteException\u001b[0m                      Traceback (most recent call last)",
      "Cell \u001b[0;32mIn[113], line 4\u001b[0m\n\u001b[1;32m      1\u001b[0m obs1 \u001b[38;5;241m=\u001b[39m fetch_observatory_location(\u001b[38;5;124m'\u001b[39m\u001b[38;5;124mogg-clma-2m0a\u001b[39m\u001b[38;5;124m'\u001b[39m)\n\u001b[1;32m      2\u001b[0m obs1\n\u001b[0;32m----> 4\u001b[0m obs2 \u001b[38;5;241m=\u001b[39m \u001b[43mfetch_observatory_location\u001b[49m\u001b[43m(\u001b[49m\u001b[38;5;124;43m'\u001b[39;49m\u001b[38;5;124;43mfoo\u001b[39;49m\u001b[38;5;124;43m'\u001b[39;49m\u001b[43m)\u001b[49m\n\u001b[1;32m      5\u001b[0m obs2\n",
      "Cell \u001b[0;32mIn[112], line 34\u001b[0m, in \u001b[0;36mfetch_observatory_location\u001b[0;34m(tel_code)\u001b[0m\n\u001b[1;32m     31\u001b[0m     \u001b[38;5;28;01mreturn\u001b[39;00m lco_facilities[tel_code]\n\u001b[1;32m     33\u001b[0m \u001b[38;5;28;01melse\u001b[39;00m:\n\u001b[0;32m---> 34\u001b[0m     obs \u001b[38;5;241m=\u001b[39m \u001b[43mEarthLocation\u001b[49m\u001b[38;5;241;43m.\u001b[39;49m\u001b[43mof_site\u001b[49m\u001b[43m(\u001b[49m\u001b[43mtel_code\u001b[49m\u001b[43m)\u001b[49m\n\u001b[1;32m     35\u001b[0m     \u001b[38;5;28;01mreturn\u001b[39;00m obs\n",
      "File \u001b[0;32m~/software/pyDANDIA/venv/lib/python3.10/site-packages/astropy/coordinates/earth.py:394\u001b[0m, in \u001b[0;36mEarthLocation.of_site\u001b[0;34m(cls, site_name, refresh_cache)\u001b[0m\n\u001b[1;32m    392\u001b[0m     el \u001b[38;5;241m=\u001b[39m registry[site_name]\n\u001b[1;32m    393\u001b[0m \u001b[38;5;28;01mexcept\u001b[39;00m UnknownSiteException \u001b[38;5;28;01mas\u001b[39;00m e:\n\u001b[0;32m--> 394\u001b[0m     \u001b[38;5;28;01mraise\u001b[39;00m UnknownSiteException(\n\u001b[1;32m    395\u001b[0m         e\u001b[38;5;241m.\u001b[39msite, \u001b[38;5;124m\"\u001b[39m\u001b[38;5;124mEarthLocation.get_site_names\u001b[39m\u001b[38;5;124m\"\u001b[39m, close_names\u001b[38;5;241m=\u001b[39me\u001b[38;5;241m.\u001b[39mclose_names\n\u001b[1;32m    396\u001b[0m     ) \u001b[38;5;28;01mfrom\u001b[39;00m \u001b[38;5;21;01me\u001b[39;00m\n\u001b[1;32m    398\u001b[0m \u001b[38;5;28;01mif\u001b[39;00m \u001b[38;5;28mcls\u001b[39m \u001b[38;5;129;01mis\u001b[39;00m el\u001b[38;5;241m.\u001b[39m\u001b[38;5;18m__class__\u001b[39m:\n\u001b[1;32m    399\u001b[0m     \u001b[38;5;28;01mreturn\u001b[39;00m el\n",
      "\u001b[0;31mUnknownSiteException\u001b[0m: \"Site 'foo' not in database. Use EarthLocation.get_site_names to see available sites. If 'foo' exists in the online astropy-data repository, use the 'refresh_cache=True' option to download the latest version. Did you mean one of: 'oao'?'\""
     ]
    }
   ],
   "source": [
    "obs1 = fetch_observatory_location('ogg-clma-2m0a')\n",
    "obs1\n",
    "\n",
    "obs2 = fetch_observatory_location('foo')\n",
    "obs2"
   ]
  },
  {
   "cell_type": "code",
   "execution_count": 115,
   "id": "11ba7f44-4bb7-4274-a18a-140604eb0ac7",
   "metadata": {},
   "outputs": [
    {
     "data": {
      "text/plain": [
       "'ogg-clma-2m0a'"
      ]
     },
     "execution_count": 115,
     "metadata": {},
     "output_type": "execute_result"
    }
   ],
   "source": [
    "faccode = 'ogg-clma-2m0a-fs02'\n",
    "\n",
    "'-'.join(faccode.split('-')[0:3])"
   ]
  },
  {
   "cell_type": "code",
   "execution_count": null,
   "id": "e0be06ca-0a6c-4c8e-a6e5-f18c00136e4d",
   "metadata": {},
   "outputs": [],
   "source": []
  }
 ],
 "metadata": {
  "kernelspec": {
   "display_name": "Python 3 (ipykernel)",
   "language": "python",
   "name": "python3"
  },
  "language_info": {
   "codemirror_mode": {
    "name": "ipython",
    "version": 3
   },
   "file_extension": ".py",
   "mimetype": "text/x-python",
   "name": "python",
   "nbconvert_exporter": "python",
   "pygments_lexer": "ipython3",
   "version": "3.10.11"
  }
 },
 "nbformat": 4,
 "nbformat_minor": 5
}
